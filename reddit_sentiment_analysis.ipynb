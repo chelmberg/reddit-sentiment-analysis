{
 "cells": [
  {
   "cell_type": "markdown",
   "metadata": {},
   "source": [
    "# Team Helmberger: Reddit sentiment analysis & machine learning classifier to distinguish between questions tagged as positive/negative\n",
    "\n",
    "## Libraries and API Access\n",
    "\n",
    "### We start by importing the necessary libraries. These include praw, nltk and pyspark. We then move on to set up a praw access to the Reddit API, using the client id, client secret and user agent provided by reddit when we applied for developer rights."
   ]
  },
  {
   "cell_type": "code",
   "execution_count": 1,
   "metadata": {},
   "outputs": [
    {
     "name": "stdout",
     "output_type": "stream",
     "text": [
      "Requirement already satisfied: praw in /opt/conda/lib/python3.8/site-packages (7.6.1)\n",
      "Requirement already satisfied: prawcore<3,>=2.1 in /opt/conda/lib/python3.8/site-packages (from praw) (2.3.0)\n",
      "Requirement already satisfied: update-checker>=0.18 in /opt/conda/lib/python3.8/site-packages (from praw) (0.18.0)\n",
      "Requirement already satisfied: websocket-client>=0.54.0 in /opt/conda/lib/python3.8/site-packages (from praw) (1.5.1)\n",
      "Requirement already satisfied: requests<3.0,>=2.6.0 in /opt/conda/lib/python3.8/site-packages (from prawcore<3,>=2.1->praw) (2.24.0)\n",
      "Requirement already satisfied: certifi>=2017.4.17 in /opt/conda/lib/python3.8/site-packages (from requests<3.0,>=2.6.0->prawcore<3,>=2.1->praw) (2020.6.20)\n",
      "Requirement already satisfied: idna<3,>=2.5 in /opt/conda/lib/python3.8/site-packages (from requests<3.0,>=2.6.0->prawcore<3,>=2.1->praw) (2.10)\n",
      "Requirement already satisfied: urllib3!=1.25.0,!=1.25.1,<1.26,>=1.21.1 in /opt/conda/lib/python3.8/site-packages (from requests<3.0,>=2.6.0->prawcore<3,>=2.1->praw) (1.25.11)\n",
      "Requirement already satisfied: chardet<4,>=3.0.2 in /opt/conda/lib/python3.8/site-packages (from requests<3.0,>=2.6.0->prawcore<3,>=2.1->praw) (3.0.4)\n",
      "Requirement already satisfied: nltk in /opt/conda/lib/python3.8/site-packages (3.8.1)\n",
      "Requirement already satisfied: regex>=2021.8.3 in /opt/conda/lib/python3.8/site-packages (from nltk) (2022.10.31)\n",
      "Requirement already satisfied: tqdm in /opt/conda/lib/python3.8/site-packages (from nltk) (4.51.0)\n",
      "Requirement already satisfied: joblib in /opt/conda/lib/python3.8/site-packages (from nltk) (0.17.0)\n",
      "Requirement already satisfied: click in /opt/conda/lib/python3.8/site-packages (from nltk) (7.1.2)\n",
      "Requirement already satisfied: pyspark in /opt/conda/lib/python3.8/site-packages (3.3.1)\n",
      "Requirement already satisfied: py4j==0.10.9.5 in /opt/conda/lib/python3.8/site-packages (from pyspark) (0.10.9.5)\n"
     ]
    }
   ],
   "source": [
    "import sys\n",
    "!{sys.executable} -m pip install praw\n",
    "import sys\n",
    "!{sys.executable} -m pip install nltk\n",
    "import sys\n",
    "!{sys.executable} -m pip install pyspark\n",
    "# import reddit api wrapper \n",
    "import praw\n",
    "import pyspark\n",
    "from pyspark.sql import SparkSession\n",
    "from pyspark.sql.functions import col, udf\n",
    "from pyspark.sql.types import IntegerType\n",
    "from nltk.sentiment.vader import SentimentIntensityAnalyzer\n",
    "\n",
    "# Set up PRAW to access Reddit API\n",
    "reddit = praw.Reddit(client_id='XXXXXXXXXXXX', client_secret='XXXXXXXXXXXXXX', user_agent='XXXXXXXXX')"
   ]
  },
  {
   "cell_type": "markdown",
   "metadata": {},
   "source": [
    "### Now, we select the top 100 subreddits from r/all filtered by 'hot' and store them in a list. We then remove all the diuplicates and check the output."
   ]
  },
  {
   "cell_type": "code",
   "execution_count": 2,
   "metadata": {},
   "outputs": [
    {
     "name": "stdout",
     "output_type": "stream",
     "text": [
      "['technicallythetruth', 'blursedimages', 'BetterEveryLoop', 'MapPorn', 'fightporn', 'tifu', 'TIHI', 'interestingasfuck', 'Whatcouldgowrong', 'wholesomememes', 'oddlyterrifying', 'Damnthatsinteresting', 'lgbt', 'WitchesVsPatriarchy', 'pcgaming', 'ChoosingBeggars', 'pcmasterrace', 'antiwork', 'LifeProTips', 'todayilearned', 'Unexpected', 'ShitPostCrusaders', 'StarWars', 'australia', 'me_irlgbt', 'perfectlycutscreams', 'facepalm', 'ShittyLifeProTips', 'nextfuckinglevel', 'meirl', 'pics', 'news', 'NonPoliticalTwitter', 'food', 'Wellthatsucks', 'tumblr', 'PixelArt', 'gifs', 'lego', 'clevercomebacks', 'science', 'ContagiousLaughter', 'politics', 'ich_iel', 'nba', 'worldnews', 'balkans_irl', 'me_irl', 'educationalgifs', 'agedlikemilk', 'MurderedByWords', 'MadeMeSmile', 'instant_regret', 'AnimalCrossing', 'TheLastAirbender', 'ProgrammerHumor', 'comics', 'AbsoluteUnits', 'BikiniBottomTwitter', 'Terraria', 'CatastrophicFailure', 'natureismetal', 'europe', 'cats', 'Superstonk', 'funny', 'BlackPeopleTwitter', 'WhitePeopleTwitter', 'trippinthroughtime', 'UkraineWarVideoReport', 'dankmemes', 'memes', 'whenthe', 'cursedcomments', 'formula1', 'meme', 'WorkReform', 'lotrmemes', 'shitposting', 'Eyebleach', 'AnimalsBeingDerps', 'HolUp', 'videos', 'dataisbeautiful', 'PrequelMemes', 'rareinsults', 'LeopardsAteMyFace', 'WatchPeopleDieInside', 'Gamingcirclejerk']\n"
     ]
    }
   ],
   "source": [
    "# empty list which will store subreddits\n",
    "subreddit_names =[]\n",
    "for submission in reddit.subreddit('all').hot(limit=100):\n",
    "    #print(submission.subreddit.display_name)\n",
    "    subreddit_names.append(submission.subreddit.display_name)\n",
    "\n",
    "#print(subreddit_names)\n",
    "# removing duplicates\n",
    "subreddit_names = list(set(subreddit_names))\n",
    "print(subreddit_names)"
   ]
  },
  {
   "cell_type": "markdown",
   "metadata": {},
   "source": [
    "### Using the subreddits extracted, we select the top 100 posts from these subreddits filtered by 'hot'. This might take some time (a few minutes) due to the amount of posts, however the limit can be set to up to 1000 for a single request (for both subreddits and posts of those subreddits). The amount of requests can be adjusted as needed by the user (repeating the code).\n",
    "\n",
    "### During the early stages of the project, we encountered many Server Errors while extracting the posts. We believe that this is because we made too many requests to the server (naturally, as we were testing the beginning part of our code) and that reddit did not like this. It could have also had something to do with the fact that we started off by setting the limit to None. Nonetheless, the problem never returned."
   ]
  },
  {
   "cell_type": "code",
   "execution_count": 3,
   "metadata": {},
   "outputs": [],
   "source": [
    "# Create an empty list to store the subreddit data\n",
    "subreddit_data = []\n",
    "\n",
    "# Scrape the data for each subreddit\n",
    "for subreddit_name in subreddit_names:\n",
    "    subreddit = reddit.subreddit(subreddit_name)\n",
    "    for submission in subreddit.hot(limit=100):\n",
    "        subreddit_data.append((subreddit_name, submission.title, submission.selftext))\n",
    "\n",
    "#print(subreddit_data)\n"
   ]
  },
  {
   "cell_type": "markdown",
   "metadata": {},
   "source": [
    "## Pyspark\n",
    "\n",
    "### We initialize pyspark and build a session, then create a dataframe using the reddit post data."
   ]
  },
  {
   "cell_type": "code",
   "execution_count": 4,
   "metadata": {},
   "outputs": [],
   "source": [
    "# Import the findspark module \n",
    "import findspark\n",
    "\n",
    "# Initialize via the full spark path\n",
    "findspark.init('/usr/local/spark/')"
   ]
  },
  {
   "cell_type": "code",
   "execution_count": 5,
   "metadata": {},
   "outputs": [],
   "source": [
    "# Import the spark sql and sql.types, and sql.functions, and time modules \n",
    "from pyspark.sql import SparkSession\n",
    "from pyspark.sql.functions import *\n",
    "from pyspark.sql.types import *\n",
    "from pyspark.sql.functions import col, split\n",
    "import time\n",
    "\n",
    "# Gets an existing :class:`SparkSession` or, if there is no existing one, creates a\n",
    "# new one based on the options set in this builder.\n",
    "spark = SparkSession.builder \\\n",
    "   .master('local[*]') \\\n",
    "   .appName('RedditApp') \\\n",
    "   .config('spark.executor.memory', '1gb') \\\n",
    "   .getOrCreate()\n",
    "\n",
    "sc = spark.sparkContext"
   ]
  },
  {
   "cell_type": "code",
   "execution_count": 6,
   "metadata": {},
   "outputs": [
    {
     "data": {
      "text/plain": [
       "[Row(subreddit='technicallythetruth', title='A new way to consider the alphabet.', text=''),\n",
       " Row(subreddit='technicallythetruth', title='Well that is what she asked for...', text=''),\n",
       " Row(subreddit='technicallythetruth', title='Dracula looks different from the source material', text=''),\n",
       " Row(subreddit='technicallythetruth', title='Where woof come out', text=''),\n",
       " Row(subreddit='technicallythetruth', title='The alphabet in alphabetical order', text=''),\n",
       " Row(subreddit='technicallythetruth', title='Don’t forget the pudding cup', text=''),\n",
       " Row(subreddit='technicallythetruth', title='He’s got a point', text=''),\n",
       " Row(subreddit='technicallythetruth', title='On a post saying that your Reddit karma is how many seconds you have left to live', text=''),\n",
       " Row(subreddit='technicallythetruth', title='make adversaries great again', text=''),\n",
       " Row(subreddit='technicallythetruth', title='I guess that is what it tastes like', text='')]"
      ]
     },
     "execution_count": 6,
     "metadata": {},
     "output_type": "execute_result"
    }
   ],
   "source": [
    "# Create a PySpark DataFrame from the subreddit data\n",
    "subreddit_df = spark.createDataFrame(subreddit_data, ['subreddit', 'title', 'text'])\n",
    "\n",
    "\n",
    "subreddit_df.take(10)\n"
   ]
  },
  {
   "cell_type": "code",
   "execution_count": 7,
   "metadata": {},
   "outputs": [
    {
     "data": {
      "text/plain": [
       "8900"
      ]
     },
     "execution_count": 7,
     "metadata": {},
     "output_type": "execute_result"
    }
   ],
   "source": [
    "#subreddit_df = subreddit_df.dropna()\n",
    "subreddit_df.count()"
   ]
  },
  {
   "cell_type": "markdown",
   "metadata": {},
   "source": [
    "## Cleaning the text\n",
    "\n",
    "### The count and the output so far make sense. We move on to cleaning the title text for more accurate results.\n",
    "\n",
    "### We first tried using the cleaning functions used in class, however they did not work for us. Therefore, we adapted code we found online and it worked for our purposes. However, we first needed to turn the title column of our dataframe into a list in order to use the cleanText and de_emojifier functions, and then put the new title column back into the dataframe.\n",
    "\n",
    "### Source: https://medium.com/@kiddojazz/reddit-sentiment-analysis-f8a1a790124a"
   ]
  },
  {
   "cell_type": "code",
   "execution_count": 8,
   "metadata": {},
   "outputs": [
    {
     "name": "stdout",
     "output_type": "stream",
     "text": [
      "+-------------------+--------------------+----+\n",
      "|          subreddit|               title|text|\n",
      "+-------------------+--------------------+----+\n",
      "|technicallythetruth|A new way to cons...|    |\n",
      "|technicallythetruth|Well that is what...|    |\n",
      "|technicallythetruth|Dracula looks dif...|    |\n",
      "|technicallythetruth| Where woof come out|    |\n",
      "|technicallythetruth|The alphabet in a...|    |\n",
      "|technicallythetruth|Don’t forget the ...|    |\n",
      "|technicallythetruth|    He’s got a point|    |\n",
      "|technicallythetruth|On a post saying ...|    |\n",
      "|technicallythetruth|make adversaries ...|    |\n",
      "|technicallythetruth|I guess that is w...|    |\n",
      "|technicallythetruth|Toy Guns > Real Guns|    |\n",
      "|technicallythetruth|Amazing life tip ...|    |\n",
      "|technicallythetruth|oh wow, i didn’t ...|    |\n",
      "|technicallythetruth|Every man is a ma...|    |\n",
      "|technicallythetruth|How to brighten t...|    |\n",
      "|technicallythetruth|So, about that ea...|    |\n",
      "|technicallythetruth|  He is right indeed|    |\n",
      "|technicallythetruth|Some police offic...|    |\n",
      "|technicallythetruth|    the way to think|    |\n",
      "|technicallythetruth|Florida State of ...|    |\n",
      "+-------------------+--------------------+----+\n",
      "only showing top 20 rows\n",
      "\n"
     ]
    }
   ],
   "source": [
    "# cleaning the text\n",
    "\n",
    "from pyspark.sql.functions import udf, monotonically_increasing_id\n",
    "import re\n",
    "\n",
    "def cleanText(text):\n",
    "    text = re.sub(r'@[A-Za-z0–9]+', '', text) \n",
    "    text = re.sub(r'#', '', text) \n",
    "    text = re.sub(r'RT[\\s]+', '', text) \n",
    "    text = re.sub(r'http\\S+', '', text) \n",
    "    text = re.sub(r':', '', text)\n",
    "    text = re.sub(r'\\*', '', text)\n",
    "    text = re.sub(r'\\n', '', text)\n",
    "    return text\n",
    "\n",
    "# turning 'title' into a list\n",
    "li = subreddit_df.rdd.map(lambda x: x[1]).collect()\n",
    "#print(li)\n",
    "\n",
    "title = []\n",
    "for l in li:\n",
    "    title.append(cleanText(l))\n",
    "\n",
    "# turn title back into the dataframe column\n",
    "\n",
    "subreddit_df = subreddit_df.repartition(1).withColumn(\n",
    "    'title', \n",
    "    udf(lambda id: title[id])(monotonically_increasing_id()))\n",
    "\n",
    "## removing emojis\n",
    "\n",
    "def de_emojifier(string):\n",
    "    emoji_pat = re.compile('['\n",
    "    u'\\U0001F600-\\U0001F64F'\n",
    "    u'\\U0001F300-\\U0001F5FF'\n",
    "    u'\\U0001F680-\\U0001F6FF'\n",
    "    u'\\U0001F1E0-\\U0001F1FF'\n",
    "    u'\\U00002500-\\U00002BEF'\n",
    "    u'\\U00002702-\\U000027B0'\n",
    "    u'\\U00002702-\\U000027B0'\n",
    "    u'\\U000024C2-\\U0001F251'\n",
    "    u'\\U0001f926-\\U0001f937'\n",
    "    u'\\U00010000-\\U0010ffff'\n",
    "    u'\\u2640-\\u2642'\n",
    "    u'\\u2600-\\u2B55'\n",
    "    u'\\u200d'\n",
    "    u'\\u23cf'\n",
    "    u'\\u23e9'\n",
    "    u'\\u231a'\n",
    "    u'\\ufe0f'\n",
    "    u'\\u3030'\n",
    "    ']+', flags=re.UNICODE)\n",
    "    return emoji_pat.sub(r'', string)\n",
    "\n",
    "# bye emojis\n",
    "title = []\n",
    "for l in li:\n",
    "    title.append(de_emojifier(l))\n",
    "    \n",
    "\n",
    "# putting title back into the dataframe\n",
    "\n",
    "subreddit_df = subreddit_df.repartition(1).withColumn(\n",
    "    'title', \n",
    "    udf(lambda id: title[id])(monotonically_increasing_id()))\n",
    "\n",
    "\n",
    "#Show the clean text\n",
    "subreddit_df.show()"
   ]
  },
  {
   "cell_type": "markdown",
   "metadata": {},
   "source": [
    "### The title column looks okay, and there seem to be no emojis or other unecessary text. We move on to sentiment analysis."
   ]
  },
  {
   "cell_type": "markdown",
   "metadata": {},
   "source": [
    "## But first - making tokens for later\n",
    "\n",
    "### Part of our goal will be to train a machine learning classifier to distinguish between questions tagged as positive and negative using the text of the reddit post title. The resulting classifier represents a first step towards a system that can automatically categorize new incoming posts.\n",
    "\n",
    "### We import some necessary functions. We then create some helper functions which will help make a new dataframe column which includes the processed reddit post titles, turned into tokens for analysis. We aagin turn the title column into a list, use the functions on the list, and then put it back into the dataframe."
   ]
  },
  {
   "cell_type": "code",
   "execution_count": 9,
   "metadata": {},
   "outputs": [],
   "source": [
    "### nltk \n",
    "import string\n",
    "import nltk\n",
    "from nltk.stem import WordNetLemmatizer \n",
    "from nltk.corpus import wordnet\n",
    "from nltk.stem import PorterStemmer \n",
    "from nltk.corpus import stopwords\n",
    "from nltk.corpus import shakespeare\n",
    "\n",
    "# This code is largely from the Data Science 4 course with Professor Johannes Wachs\n",
    "\n",
    "lemmatizer = WordNetLemmatizer()\n",
    "ps = PorterStemmer() \n",
    "en_stopwords= stopwords.words('english')\n",
    "\n",
    "def get_wordnet_pos(token):\n",
    "    '''Helper function: map POS tag to first character lemmatize() accepts\n",
    "    Taken from: https://www.machinelearningplus.com/nlp/lemmatization-examples-python/\n",
    "    '''\n",
    "    tag = nltk.pos_tag([token])[0][1][0].upper() #extract the information\n",
    "    tag_dict = {'J': wordnet.ADJ, #map\n",
    "                'N': wordnet.NOUN,\n",
    "                'V': wordnet.VERB,\n",
    "                'R': wordnet.ADV}\n",
    "    return tag_dict.get(tag, wordnet.NOUN) #guess noun if unknown\n",
    "\n",
    "\n",
    "def processing_pipeline(text):\n",
    "    '''takes a sentence and returns a lowercased, lemmatized, and stemmed list of tokens'''\n",
    "    tokens=nltk.word_tokenize(text)\n",
    "    lemmatized_tokens=[lemmatizer.lemmatize(token, get_wordnet_pos(token)) for token in tokens]\n",
    "    stemmed_tokens =[ps.stem(token) for token in lemmatized_tokens]\n",
    "    processed_tokens = [token for token in stemmed_tokens if token not in en_stopwords]\n",
    "    processed_tokens = [token for token in processed_tokens if token not in string.punctuation]\n",
    "    return processed_tokens\n"
   ]
  },
  {
   "cell_type": "code",
   "execution_count": 10,
   "metadata": {},
   "outputs": [
    {
     "name": "stderr",
     "output_type": "stream",
     "text": [
      "[nltk_data] Downloading package punkt to /home/jovyan/nltk_data...\n",
      "[nltk_data]   Package punkt is already up-to-date!\n"
     ]
    },
    {
     "data": {
      "text/plain": [
       "True"
      ]
     },
     "execution_count": 10,
     "metadata": {},
     "output_type": "execute_result"
    }
   ],
   "source": [
    "nltk.download('punkt')"
   ]
  },
  {
   "cell_type": "code",
   "execution_count": 11,
   "metadata": {},
   "outputs": [],
   "source": [
    "myL = subreddit_df.rdd.map(lambda x: x[1]).collect()\n",
    "#print(myL)\n",
    "\n",
    "processed_title = []\n",
    "for l in myL:\n",
    "    processed_title.append(processing_pipeline(l))\n",
    "    \n",
    "#print(processed_title)"
   ]
  },
  {
   "cell_type": "code",
   "execution_count": 12,
   "metadata": {},
   "outputs": [
    {
     "name": "stdout",
     "output_type": "stream",
     "text": [
      "+-------------------+--------------------+----+--------------------+\n",
      "|          subreddit|               title|text|     processed_title|\n",
      "+-------------------+--------------------+----+--------------------+\n",
      "|technicallythetruth|A new way to cons...|    |[new, way, consid...|\n",
      "|technicallythetruth|Well that is what...|    |    [well, ask, ...]|\n",
      "|technicallythetruth|Dracula looks dif...|    |[dracula, look, d...|\n",
      "|technicallythetruth| Where woof come out|    |        [woof, come]|\n",
      "|technicallythetruth|The alphabet in a...|    |[alphabet, alphab...|\n",
      "|technicallythetruth|Don’t forget the ...|    |[’, forget, pud, ...|\n",
      "|technicallythetruth|    He’s got a point|    |     [’, get, point]|\n",
      "|technicallythetruth|On a post saying ...|    |[post, say, reddi...|\n",
      "|technicallythetruth|make adversaries ...|    |[make, adversari,...|\n",
      "|technicallythetruth|I guess that is w...|    | [guess, tast, like]|\n",
      "|technicallythetruth|Toy Guns > Real Guns|    |[toy, gun, real, ...|\n",
      "|technicallythetruth|Amazing life tip ...|    |[amaz, life, tip,...|\n",
      "|technicallythetruth|oh wow, i didn’t ...|    |  [oh, wow, ’, know]|\n",
      "|technicallythetruth|Every man is a ma...|    |[everi, man, manlet]|\n",
      "|technicallythetruth|How to brighten t...|    |[brighten, backgr...|\n",
      "|technicallythetruth|So, about that ea...|    |[earli, charli, s...|\n",
      "|technicallythetruth|  He is right indeed|    |       [right, inde]|\n",
      "|technicallythetruth|Some police offic...|    |[polic, offic, go...|\n",
      "|technicallythetruth|    the way to think|    |        [way, think]|\n",
      "|technicallythetruth|Florida State of ...|    |[florida, state, ...|\n",
      "+-------------------+--------------------+----+--------------------+\n",
      "only showing top 20 rows\n",
      "\n"
     ]
    }
   ],
   "source": [
    "from pyspark.sql.functions import udf, monotonically_increasing_id\n",
    "\n",
    "df = subreddit_df.repartition(1).withColumn(\n",
    "    'processed_title', \n",
    "    udf(lambda id: processed_title[id])(monotonically_increasing_id()))\n",
    "\n",
    "df.show()"
   ]
  },
  {
   "cell_type": "markdown",
   "metadata": {},
   "source": [
    "### We look at the frequency of tokens just for fun. Back when we first started testing 'zelenski', 'year' and 'christmas' were very common tokens. Now, the tokens seem to be more genreral in nature."
   ]
  },
  {
   "cell_type": "code",
   "execution_count": 13,
   "metadata": {},
   "outputs": [
    {
     "data": {
      "text/plain": [
       "[('thi', 757),\n",
       " ('’', 695),\n",
       " (\"'s\", 484),\n",
       " ('get', 352),\n",
       " ('make', 259),\n",
       " (\"n't\", 253),\n",
       " (\"''\", 246),\n",
       " ('``', 236),\n",
       " ('like', 233),\n",
       " ('new', 229),\n",
       " ('one', 222),\n",
       " ('hi', 206),\n",
       " ('go', 191),\n",
       " ('time', 181),\n",
       " ('say', 177),\n",
       " ('...', 174),\n",
       " ('oc', 173),\n",
       " ('year', 170),\n",
       " ('day', 158),\n",
       " ('first', 144),\n",
       " ('look', 140),\n",
       " ('work', 137),\n",
       " ('take', 135),\n",
       " ('thank', 133),\n",
       " ('game', 131),\n",
       " ('use', 128),\n",
       " ('peopl', 127),\n",
       " ('”', 126),\n",
       " ('“', 122),\n",
       " ('know', 121),\n",
       " ('hate', 121),\n",
       " ('want', 114),\n",
       " ('good', 110),\n",
       " ('see', 107),\n",
       " ('turkey', 106),\n",
       " ('found', 106),\n",
       " ('today', 103),\n",
       " ('til', 102),\n",
       " ('lpt', 102),\n",
       " ('earthquak', 101),\n",
       " ('tifu', 100),\n",
       " ('well', 98),\n",
       " ('love', 98),\n",
       " ('old', 97),\n",
       " ('slpt', 97),\n",
       " ('would', 96),\n",
       " ('whi', 96),\n",
       " ('cat', 94),\n",
       " ('meirl', 94),\n",
       " ('guy', 93)]"
      ]
     },
     "execution_count": 13,
     "metadata": {},
     "output_type": "execute_result"
    }
   ],
   "source": [
    "## first turn the processed titles into a flat list and then do a frequency distribution to see most common words used\n",
    "\n",
    "flat_list = [item for sublist in processed_title for item in sublist]\n",
    "fd = nltk.FreqDist(flat_list)\n",
    "fd.most_common(50)\n",
    "## besides common verbs, christmas and zelenski are used, as well as year and house. seems like the ukraine war as well as the\n",
    "## upcoming holidays are influencing this"
   ]
  },
  {
   "cell_type": "markdown",
   "metadata": {},
   "source": [
    "## Sentiment analysis\n",
    "\n",
    "### Using the nltk sentiment intensity analyzer function, we will make 4 new columns which include the polarity scores of each post and append them to the dataframe. The most important column will be the 'compound' column, which indicates the compound polarity score of each post.\n",
    "\n",
    "### At first, we use the sentiment analzyer function on our title list, and then turn it into a dataframe of its own and inner join it to the other dataframe. Here we had some probelems perfecting the inner join, as the scores did not seem to match the titles at first. Some Stack Overflow help was needed, and at the end we used a function from this question: https://stackoverflow.com/questions/40508489/spark-merge-2-dataframes-by-adding-row-index-number-on-both-dataframes in order to correctly map each post with its respective polarity scores."
   ]
  },
  {
   "cell_type": "code",
   "execution_count": 14,
   "metadata": {},
   "outputs": [
    {
     "name": "stderr",
     "output_type": "stream",
     "text": [
      "[nltk_data] Downloading package vader_lexicon to\n",
      "[nltk_data]     /home/jovyan/nltk_data...\n",
      "[nltk_data]   Package vader_lexicon is already up-to-date!\n"
     ]
    },
    {
     "data": {
      "text/plain": [
       "True"
      ]
     },
     "execution_count": 14,
     "metadata": {},
     "output_type": "execute_result"
    }
   ],
   "source": [
    "nltk.download('vader_lexicon')"
   ]
  },
  {
   "cell_type": "code",
   "execution_count": 15,
   "metadata": {},
   "outputs": [],
   "source": [
    "# playing with sentiment analyzer\n",
    "\n",
    "from nltk.sentiment import SentimentIntensityAnalyzer\n",
    "sia = SentimentIntensityAnalyzer()\n",
    "\n",
    "#for post in myL:\n",
    "#    print(sia.polarity_scores(post), post\n",
    "\n",
    "res=[]\n",
    "for l in myL:\n",
    "    res.append(sia.polarity_scores(l))\n",
    "    "
   ]
  },
  {
   "cell_type": "code",
   "execution_count": 16,
   "metadata": {},
   "outputs": [
    {
     "name": "stderr",
     "output_type": "stream",
     "text": [
      "/usr/local/spark/python/pyspark/sql/session.py:381: UserWarning: inferring schema from dict is deprecated,please use pyspark.sql.Row instead\n",
      "  warnings.warn(\"inferring schema from dict is deprecated,\"\n"
     ]
    },
    {
     "data": {
      "text/plain": [
       "[Row(compound=0.0, neg=0.0, neu=1.0, pos=0.0),\n",
       " Row(compound=0.2732, neg=0.0, neu=0.741, pos=0.259),\n",
       " Row(compound=0.0, neg=0.0, neu=1.0, pos=0.0),\n",
       " Row(compound=0.0, neg=0.0, neu=1.0, pos=0.0),\n",
       " Row(compound=0.0, neg=0.0, neu=1.0, pos=0.0),\n",
       " Row(compound=-0.2263, neg=0.322, neu=0.678, pos=0.0),\n",
       " Row(compound=0.0, neg=0.0, neu=1.0, pos=0.0),\n",
       " Row(compound=0.0, neg=0.0, neu=1.0, pos=0.0),\n",
       " Row(compound=0.4767, neg=0.247, neu=0.247, pos=0.506),\n",
       " Row(compound=0.3612, neg=0.0, neu=0.706, pos=0.294),\n",
       " Row(compound=0.0, neg=0.0, neu=1.0, pos=0.0),\n",
       " Row(compound=0.5859, neg=0.0, neu=0.648, pos=0.352),\n",
       " Row(compound=0.5859, neg=0.0, neu=0.513, pos=0.487),\n",
       " Row(compound=0.0, neg=0.0, neu=1.0, pos=0.0),\n",
       " Row(compound=0.4404, neg=0.0, neu=0.707, pos=0.293),\n",
       " Row(compound=0.0, neg=0.0, neu=1.0, pos=0.0),\n",
       " Row(compound=0.0, neg=0.0, neu=1.0, pos=0.0),\n",
       " Row(compound=0.4019, neg=0.0, neu=0.838, pos=0.162),\n",
       " Row(compound=0.0, neg=0.0, neu=1.0, pos=0.0),\n",
       " Row(compound=0.0, neg=0.0, neu=1.0, pos=0.0),\n",
       " Row(compound=-0.5267, neg=0.595, neu=0.405, pos=0.0),\n",
       " Row(compound=0.5041, neg=0.0, neu=0.734, pos=0.266),\n",
       " Row(compound=0.0, neg=0.0, neu=1.0, pos=0.0),\n",
       " Row(compound=-0.4767, neg=0.437, neu=0.563, pos=0.0),\n",
       " Row(compound=-0.706, neg=0.661, neu=0.339, pos=0.0),\n",
       " Row(compound=0.0, neg=0.0, neu=1.0, pos=0.0)]"
      ]
     },
     "execution_count": 16,
     "metadata": {},
     "output_type": "execute_result"
    }
   ],
   "source": [
    "sentiment_df = spark.createDataFrame(res)\n",
    "sentiment_df.take(26)"
   ]
  },
  {
   "cell_type": "code",
   "execution_count": 17,
   "metadata": {},
   "outputs": [
    {
     "name": "stdout",
     "output_type": "stream",
     "text": [
      "+-------------------+--------------------+--------------------+--------------------+--------+-----+-----+-----+\n",
      "|          subreddit|               title|                text|     processed_title|compound|  neg|  neu|  pos|\n",
      "+-------------------+--------------------+--------------------+--------------------+--------+-----+-----+-----+\n",
      "|technicallythetruth|That's one way to...|                    | ['s, one, way, put]|     0.0|  0.0|  1.0|  0.0|\n",
      "|technicallythetruth|The problems of s...|                    |[problem, short, ...| -0.4019|0.403|0.597|  0.0|\n",
      "|          fightporn|Guy in blue claim...|                    |[guy, blue, claim...|     0.0|  0.0|  1.0|  0.0|\n",
      "|     wholesomememes|Always nice, seei...|                    |[alway, nice, see...|  0.4215|  0.0|0.682|0.318|\n",
      "|       pcmasterrace|   Motherboard shot?|Am trying to buil...| [motherboard, shot]|     0.0|  0.0|  1.0|  0.0|\n",
      "|       pcmasterrace|2 Questions: is m...|                    |[2, question, fan...|  0.6597|  0.0|0.652|0.348|\n",
      "|        LifeProTips|LPT Request: What...|                    |[lpt, request, 40...| -0.5719|0.227|0.773|  0.0|\n",
      "|      todayilearned|TIL that fish tha...|                    |[til, fish, live,...| -0.5038|0.171|0.754|0.074|\n",
      "|         Unexpected|Using the physics...|                    |[use, physic, favor]|  0.4019|  0.0|0.649|0.351|\n",
      "|           StarWars|   Andor is awesome.|I wasn't going to...|     [andor, awesom]|  0.6249|  0.0|0.328|0.672|\n",
      "|           StarWars|Lack of Star Wars...|Anyone feel like ...|[lack, star, war,...| -0.7096|0.596|0.404|  0.0|\n",
      "|          me_irlgbt|           me_irlgbt|                    |         [me_irlgbt]|     0.0|  0.0|  1.0|  0.0|\n",
      "|perfectlycutscreams|              purple|                    |             [purpl]|     0.0|  0.0|  1.0|  0.0|\n",
      "|perfectlycutscreams|      Waterboy Vibes|                    |    [waterboy, vibe]|     0.0|  0.0|  1.0|  0.0|\n",
      "|              meirl|               meirl|                    |             [meirl]|     0.0|  0.0|  1.0|  0.0|\n",
      "|               pics|        sunset views|                    |      [sunset, view]|     0.0|  0.0|  1.0|  0.0|\n",
      "|             tumblr|I never thought a...|                    |    [never, thought]|     0.0|  0.0|  1.0|  0.0|\n",
      "|               gifs|Mom did a fantast...|                    | [mom, fantast, job]|  0.5574|  0.0|0.455|0.545|\n",
      "|          worldnews|Moscow, Tehran mo...|                    |[moscow, tehran, ...|     0.0|  0.0|  1.0|  0.0|\n",
      "|    educationalgifs|How to tie a truc...|                    |[tie, trucker, 's...|     0.0|  0.0|  1.0|  0.0|\n",
      "+-------------------+--------------------+--------------------+--------------------+--------+-----+-----+-----+\n",
      "only showing top 20 rows\n",
      "\n",
      "+----------+\n",
      "|count(neu)|\n",
      "+----------+\n",
      "|      8900|\n",
      "+----------+\n",
      "\n"
     ]
    }
   ],
   "source": [
    "from pyspark.sql.types import StructType, StructField, LongType\n",
    "\n",
    "def with_column_index(sdf): \n",
    "    new_schema = StructType(sdf.schema.fields + [StructField('ColumnIndex', LongType(), False),])\n",
    "    return sdf.rdd.zipWithIndex().map(lambda row: row[0] + (row[1],)).toDF(schema=new_schema)\n",
    "\n",
    "df1_ci = with_column_index(df)\n",
    "df2_ci = with_column_index(sentiment_df)\n",
    "reddit_sentiment = df1_ci.join(df2_ci, df1_ci.ColumnIndex == df2_ci.ColumnIndex, 'inner').drop('ColumnIndex')\n",
    "reddit_sentiment.show()\n",
    "reddit_sentiment.select(count(reddit_sentiment.neu)).show()"
   ]
  },
  {
   "cell_type": "markdown",
   "metadata": {},
   "source": [
    "## Labeling each post, based on its score\n",
    "\n",
    "### Using the 0.05 threshold recommended by the VADER github readme (https://github.com/cjhutto/vaderSentiment#about-the-scoring), we label each post with 0 (neg), 1 (pos) or 2 (neu), based on whether the polarity score indicates negativity, positivity or neutrality, respectively."
   ]
  },
  {
   "cell_type": "code",
   "execution_count": 18,
   "metadata": {},
   "outputs": [
    {
     "name": "stdout",
     "output_type": "stream",
     "text": [
      "root\n",
      " |-- subreddit: string (nullable = true)\n",
      " |-- title: string (nullable = true)\n",
      " |-- text: string (nullable = true)\n",
      " |-- processed_title: string (nullable = true)\n",
      "\n",
      "+-------------------+--------------------+--------------------+--------------------+--------+-----+-----+-----+-----+\n",
      "|          subreddit|               title|                text|     processed_title|compound|  neg|  neu|  pos|label|\n",
      "+-------------------+--------------------+--------------------+--------------------+--------+-----+-----+-----+-----+\n",
      "|technicallythetruth|That's one way to...|                    | ['s, one, way, put]|     0.0|  0.0|  1.0|  0.0|    2|\n",
      "|technicallythetruth|The problems of s...|                    |[problem, short, ...| -0.4019|0.403|0.597|  0.0|    0|\n",
      "|          fightporn|Guy in blue claim...|                    |[guy, blue, claim...|     0.0|  0.0|  1.0|  0.0|    2|\n",
      "|     wholesomememes|Always nice, seei...|                    |[alway, nice, see...|  0.4215|  0.0|0.682|0.318|    1|\n",
      "|       pcmasterrace|   Motherboard shot?|Am trying to buil...| [motherboard, shot]|     0.0|  0.0|  1.0|  0.0|    2|\n",
      "|       pcmasterrace|2 Questions: is m...|                    |[2, question, fan...|  0.6597|  0.0|0.652|0.348|    1|\n",
      "|        LifeProTips|LPT Request: What...|                    |[lpt, request, 40...| -0.5719|0.227|0.773|  0.0|    0|\n",
      "|      todayilearned|TIL that fish tha...|                    |[til, fish, live,...| -0.5038|0.171|0.754|0.074|    0|\n",
      "|         Unexpected|Using the physics...|                    |[use, physic, favor]|  0.4019|  0.0|0.649|0.351|    1|\n",
      "|           StarWars|   Andor is awesome.|I wasn't going to...|     [andor, awesom]|  0.6249|  0.0|0.328|0.672|    1|\n",
      "|           StarWars|Lack of Star Wars...|Anyone feel like ...|[lack, star, war,...| -0.7096|0.596|0.404|  0.0|    0|\n",
      "|          me_irlgbt|           me_irlgbt|                    |         [me_irlgbt]|     0.0|  0.0|  1.0|  0.0|    2|\n",
      "|perfectlycutscreams|              purple|                    |             [purpl]|     0.0|  0.0|  1.0|  0.0|    2|\n",
      "|perfectlycutscreams|      Waterboy Vibes|                    |    [waterboy, vibe]|     0.0|  0.0|  1.0|  0.0|    2|\n",
      "|              meirl|               meirl|                    |             [meirl]|     0.0|  0.0|  1.0|  0.0|    2|\n",
      "|               pics|        sunset views|                    |      [sunset, view]|     0.0|  0.0|  1.0|  0.0|    2|\n",
      "|             tumblr|I never thought a...|                    |    [never, thought]|     0.0|  0.0|  1.0|  0.0|    2|\n",
      "|               gifs|Mom did a fantast...|                    | [mom, fantast, job]|  0.5574|  0.0|0.455|0.545|    1|\n",
      "|          worldnews|Moscow, Tehran mo...|                    |[moscow, tehran, ...|     0.0|  0.0|  1.0|  0.0|    2|\n",
      "|    educationalgifs|How to tie a truc...|                    |[tie, trucker, 's...|     0.0|  0.0|  1.0|  0.0|    2|\n",
      "+-------------------+--------------------+--------------------+--------------------+--------+-----+-----+-----+-----+\n",
      "only showing top 20 rows\n",
      "\n"
     ]
    }
   ],
   "source": [
    "THRESHOLD = 0.05\n",
    "\n",
    "df.printSchema()\n",
    "\n",
    "\n",
    "from pyspark.sql.functions import when\n",
    "from pyspark.sql import functions as F\n",
    "\n",
    "#reddit_sentiment1 = reddit_sentiment.withColumn('label', (when(col('compound') <= -THRESHOLD, 0).when(col('compound') >= THRESHOLD, 1).otherwise(2)))\n",
    "reddit_sentiment1 = reddit_sentiment.withColumn('label', (when(col('compound') <= -THRESHOLD, 0).when(col('compound') >= THRESHOLD, 1).otherwise(2)))\n",
    "\n",
    "\n",
    "reddit_sentiment1.show()"
   ]
  },
  {
   "cell_type": "markdown",
   "metadata": {},
   "source": [
    "### For our purposes, neutral posts are not needed, so we remove those and do a count to see if everything fits."
   ]
  },
  {
   "cell_type": "code",
   "execution_count": 19,
   "metadata": {},
   "outputs": [
    {
     "name": "stdout",
     "output_type": "stream",
     "text": [
      "+-----+-----+\n",
      "|label|count|\n",
      "+-----+-----+\n",
      "|    1| 2233|\n",
      "|    2| 4752|\n",
      "|    0| 1915|\n",
      "+-----+-----+\n",
      "\n",
      "+------------+\n",
      "|count(label)|\n",
      "+------------+\n",
      "|        8900|\n",
      "+------------+\n",
      "\n",
      "+------------+\n",
      "|count(label)|\n",
      "+------------+\n",
      "|        4148|\n",
      "+------------+\n",
      "\n",
      "+-------------------+--------------------+--------------------+--------------------+--------+-----+-----+-----+-----+\n",
      "|          subreddit|               title|                text|     processed_title|compound|  neg|  neu|  pos|label|\n",
      "+-------------------+--------------------+--------------------+--------------------+--------+-----+-----+-----+-----+\n",
      "|technicallythetruth|The problems of s...|                    |[problem, short, ...| -0.4019|0.403|0.597|  0.0|    0|\n",
      "|     wholesomememes|Always nice, seei...|                    |[alway, nice, see...|  0.4215|  0.0|0.682|0.318|    1|\n",
      "|       pcmasterrace|2 Questions: is m...|                    |[2, question, fan...|  0.6597|  0.0|0.652|0.348|    1|\n",
      "|        LifeProTips|LPT Request: What...|                    |[lpt, request, 40...| -0.5719|0.227|0.773|  0.0|    0|\n",
      "|      todayilearned|TIL that fish tha...|                    |[til, fish, live,...| -0.5038|0.171|0.754|0.074|    0|\n",
      "|         Unexpected|Using the physics...|                    |[use, physic, favor]|  0.4019|  0.0|0.649|0.351|    1|\n",
      "|           StarWars|   Andor is awesome.|I wasn't going to...|     [andor, awesom]|  0.6249|  0.0|0.328|0.672|    1|\n",
      "|           StarWars|Lack of Star Wars...|Anyone feel like ...|[lack, star, war,...| -0.7096|0.596|0.404|  0.0|    0|\n",
      "|               gifs|Mom did a fantast...|                    | [mom, fantast, job]|  0.5574|  0.0|0.455|0.545|    1|\n",
      "|     AnimalCrossing|Soleils little wa...|                    |[soleil, littl, w...|   0.802|  0.0|0.687|0.313|    1|\n",
      "|            whenthe|The more I rewatc...|                    |[rewatch, star, w...| -0.2878|0.285|0.516|0.199|    0|\n",
      "|          fightporn|Small fight from ...|I remember this d...|[small, fight, 20...| -0.3818|0.271|0.729|  0.0|    0|\n",
      "|               tifu|TIFU when I gave ...|As the title says...|[tifu, give, wron...| -0.4215|0.369|0.476|0.155|    0|\n",
      "|               lgbt|FAMILY BREAK: Tra...|                    |[famili, break, t...|  -0.296|0.216|0.784|  0.0|    0|\n",
      "|               lgbt|any tips on impro...|                    |[ani, tip, improv...|  0.4215|  0.0|0.763|0.237|    1|\n",
      "|WitchesVsPatriarchy|Wishing I could a...|                    |[wish, could, aff...|  0.2263|  0.0|0.787|0.213|    1|\n",
      "|   nextfuckinglevel|Crazy lazer skill...|                    |[crazi, lazer, sk...| -0.4003| 0.31| 0.69|  0.0|    0|\n",
      "|               pics|I made this cool ...|                    |[make, thi, cool,...|  0.5423|  0.0|0.609|0.391|    1|\n",
      "|               news|Earthquake of mag...|                    |[earthquak, magni...| -0.3612|0.294|0.706|  0.0|    0|\n",
      "|               news|Train derailment ...|                    |[train, derail, c...|   -0.34|0.255|0.745|  0.0|    0|\n",
      "+-------------------+--------------------+--------------------+--------------------+--------+-----+-----+-----+-----+\n",
      "only showing top 20 rows\n",
      "\n"
     ]
    }
   ],
   "source": [
    "reddit_sentiment1.groupBy('label').count().show()\n",
    "\n",
    "from pyspark.sql.functions import count\n",
    "reddit_sentiment1.select(count(reddit_sentiment1.label)).show()\n",
    "allSentiments = reddit_sentiment1\n",
    "\n",
    "# drop rows with neutral sentiment\n",
    "reddit_sentiment1 = reddit_sentiment1.where(reddit_sentiment1.label!=2)\n",
    "reddit_sentiment1.select(count(reddit_sentiment1.label)).show()\n",
    "\n",
    "reddit_sentiment1.show()"
   ]
  },
  {
   "cell_type": "markdown",
   "metadata": {},
   "source": [
    "### Observing the Top 10 Subreddits for negative and positive sentiment:"
   ]
  },
  {
   "cell_type": "code",
   "execution_count": 20,
   "metadata": {},
   "outputs": [
    {
     "data": {
      "text/plain": [
       "[<matplotlib.lines.Line2D at 0x7f51283e1370>]"
      ]
     },
     "execution_count": 20,
     "metadata": {},
     "output_type": "execute_result"
    },
    {
     "data": {
      "image/png": "[encoded data removed]",
      "text/plain": [
       "<Figure size 432x288 with 1 Axes>"
      ]
     },
     "metadata": {
      "needs_background": "light"
     },
     "output_type": "display_data"
    }
   ],
   "source": [
    "import pandas as pd\n",
    "import numpy as np\n",
    "from matplotlib import pyplot as plt\n",
    "\n",
    "dfNegative = reddit_sentiment1.filter(col(\"label\")==0).groupBy(\"subreddit\").count().alias(\"count\").sort(desc(\"count\")).limit(10).toPandas()\n",
    "dfNegative = dfNegative.sort_values(by='count')\n",
    "\n",
    "fig, axes = plt.subplots()\n",
    "plt.hlines(y=dfNegative['subreddit'], xmin=0, xmax=dfNegative['count'], color='red')  \n",
    "\n",
    "# formatting and details\n",
    "plt.xlabel('Number of posts with negative sentiment')\n",
    "plt.ylabel('Subreddit')\n",
    "plt.title('Top 10 Subreddits with negative sentiment')\n",
    "plt.xticks(np.arange(0, dfNegative['count'].max() + 5, 5.0))\n",
    "\n",
    "axes.plot(dfNegative['count'], dfNegative['subreddit'], \"o\", c='darkred')"
   ]
  },
  {
   "cell_type": "code",
   "execution_count": 21,
   "metadata": {},
   "outputs": [
    {
     "data": {
      "text/plain": [
       "[<matplotlib.lines.Line2D at 0x7f512466f430>]"
      ]
     },
     "execution_count": 21,
     "metadata": {},
     "output_type": "execute_result"
    },
    {
     "data": {
      "image/png": "[encoded data removed]",
      "text/plain": [
       "<Figure size 432x288 with 1 Axes>"
      ]
     },
     "metadata": {
      "needs_background": "light"
     },
     "output_type": "display_data"
    }
   ],
   "source": [
    "dfPositive = reddit_sentiment1.filter(col(\"label\")==1).groupBy(\"subreddit\").count().alias(\"count\").sort(desc(\"count\")).limit(10).toPandas()\n",
    "dfPositive = dfPositive.sort_values(by='count')\n",
    "\n",
    "fig, axes = plt.subplots()\n",
    "plt.hlines(y=dfPositive['subreddit'], xmin=0, xmax=dfPositive['count'], color='lightgreen')  \n",
    "\n",
    "# formatting and details\n",
    "plt.xlabel('Number of posts with positive sentiment')\n",
    "plt.ylabel('Subreddit')\n",
    "plt.title('Top 10 Subreddits with positive sentiment')\n",
    "plt.xticks(np.arange(0, dfPositive['count'].max() + 5, 5.0))\n",
    "\n",
    "axes.plot(dfPositive['count'], dfPositive['subreddit'], \"o\", c='green')"
   ]
  },
  {
   "cell_type": "markdown",
   "metadata": {},
   "source": [
    "### Observing the overall sentiment:"
   ]
  },
  {
   "cell_type": "code",
   "execution_count": 22,
   "metadata": {},
   "outputs": [
    {
     "data": {
      "image/png": "[encoded data removed]",
      "text/plain": [
       "<Figure size 576x432 with 1 Axes>"
      ]
     },
     "metadata": {},
     "output_type": "display_data"
    },
    {
     "data": {
      "text/html": [
       "<div>\n",
       "<style scoped>\n",
       "    .dataframe tbody tr th:only-of-type {\n",
       "        vertical-align: middle;\n",
       "    }\n",
       "\n",
       "    .dataframe tbody tr th {\n",
       "        vertical-align: top;\n",
       "    }\n",
       "\n",
       "    .dataframe thead th {\n",
       "        text-align: right;\n",
       "    }\n",
       "</style>\n",
       "<table border=\"1\" class=\"dataframe\">\n",
       "  <thead>\n",
       "    <tr style=\"text-align: right;\">\n",
       "      <th></th>\n",
       "      <th>label</th>\n",
       "      <th>count</th>\n",
       "    </tr>\n",
       "  </thead>\n",
       "  <tbody>\n",
       "    <tr>\n",
       "      <th>2</th>\n",
       "      <td>Negative</td>\n",
       "      <td>1915</td>\n",
       "    </tr>\n",
       "    <tr>\n",
       "      <th>1</th>\n",
       "      <td>Neutral</td>\n",
       "      <td>4752</td>\n",
       "    </tr>\n",
       "    <tr>\n",
       "      <th>0</th>\n",
       "      <td>Positive</td>\n",
       "      <td>2233</td>\n",
       "    </tr>\n",
       "  </tbody>\n",
       "</table>\n",
       "</div>"
      ],
      "text/plain": [
       "      label  count\n",
       "2  Negative   1915\n",
       "1   Neutral   4752\n",
       "0  Positive   2233"
      ]
     },
     "execution_count": 22,
     "metadata": {},
     "output_type": "execute_result"
    }
   ],
   "source": [
    "dfAllSentiments = allSentiments.groupBy(\"label\").count().alias(\"count\").toPandas()\n",
    "dfAllSentiments.loc[dfAllSentiments['label'] == 0, 'label'] = 'Negative'\n",
    "dfAllSentiments.loc[dfAllSentiments['label'] == 1, 'label'] = 'Positive'\n",
    "dfAllSentiments.loc[dfAllSentiments['label'] == 2, 'label'] = 'Neutral'\n",
    "\n",
    "# order by the label name so the color always fits the right sentiment\n",
    "dfAllSentiments = dfAllSentiments.sort_values(by='label')\n",
    "\n",
    "colors = ['red', 'lightblue', 'green']\n",
    "\n",
    "plt.figure(figsize=(8, 6))\n",
    "plt.pie(dfAllSentiments['count'], labels=dfAllSentiments['label'], autopct='%1.0f%%', colors=colors)\n",
    "plt.title(\"Sentiment of all Reddit posts\")\n",
    "plt.show()\n",
    "dfAllSentiments"
   ]
  },
  {
   "cell_type": "markdown",
   "metadata": {},
   "source": [
    "## Accuracy models\n",
    "\n",
    "### We apply Natural Language Proccesing in order to evaluate the performance and accuracy of our model. \n",
    "\n",
    "### The first step will be to create a corpus and initialize a TF-IDF DTM."
   ]
  },
  {
   "cell_type": "code",
   "execution_count": 23,
   "metadata": {},
   "outputs": [
    {
     "name": "stdout",
     "output_type": "stream",
     "text": [
      "[[0. 0. 0. ... 0. 0. 0.]\n",
      " [0. 0. 0. ... 0. 0. 0.]\n",
      " [0. 0. 0. ... 0. 0. 0.]\n",
      " ...\n",
      " [0. 0. 0. ... 0. 0. 0.]\n",
      " [0. 0. 0. ... 0. 0. 0.]\n",
      " [0. 0. 0. ... 0. 0. 0.]]\n",
      "(4148, 679)\n"
     ]
    }
   ],
   "source": [
    "myL=reddit_sentiment1.rdd.map(lambda x: x[1]).collect()\n",
    "#print(myL)\n",
    "\n",
    "processed_title = []\n",
    "for l in myL:\n",
    "    processed_title.append(processing_pipeline(l))\n",
    "\n",
    "\n",
    "from sklearn.feature_extraction.text import TfidfVectorizer\n",
    "corpus= list([' '.join(text) for text in processed_title])\n",
    "#print(corpus)\n",
    "vectorizer = TfidfVectorizer(min_df=10, max_df=.5) \n",
    "#keep only those tokens in at least 10 documents, and in at most 50% of documents\n",
    "\n",
    "DTM=vectorizer.fit_transform(corpus)\n",
    "print(DTM.toarray())\n",
    "print(DTM.shape)"
   ]
  },
  {
   "cell_type": "markdown",
   "metadata": {},
   "source": [
    "### We now have a document-term matrix, weighted via TF-IDF. The shape looks good, meaning we are free to move on"
   ]
  },
  {
   "cell_type": "code",
   "execution_count": 24,
   "metadata": {},
   "outputs": [
    {
     "name": "stdout",
     "output_type": "stream",
     "text": [
      "(4148,)\n"
     ]
    },
    {
     "data": {
      "text/plain": [
       "array([0, 1, 1, ..., 1, 1, 1])"
      ]
     },
     "execution_count": 24,
     "metadata": {},
     "output_type": "execute_result"
    }
   ],
   "source": [
    "y = np.array(reddit_sentiment1.select('label').collect())\n",
    "y = y.reshape(-1)\n",
    "print(y.shape)\n",
    "y"
   ]
  },
  {
   "cell_type": "markdown",
   "metadata": {},
   "source": [
    "## First, let us create a test-train split\n",
    "\n",
    "### We want to evaluate our algorithm on data that it hasn't seen before, to prevent overfitting."
   ]
  },
  {
   "cell_type": "code",
   "execution_count": 25,
   "metadata": {},
   "outputs": [
    {
     "name": "stdout",
     "output_type": "stream",
     "text": [
      "(2903, 679) (1245, 679)\n",
      "(2903,) (1245,)\n"
     ]
    }
   ],
   "source": [
    "# sklearn provides various functionalities to crossvalidate model performance\n",
    "from sklearn.model_selection import train_test_split\n",
    "\n",
    "# randomly split data into training and test\n",
    "X_train, X_test, y_train, y_test = train_test_split(DTM, y, test_size=.3, random_state=42)\n",
    "\n",
    "print(X_train.shape,X_test.shape)\n",
    "print(y_train.shape,y_test.shape)"
   ]
  },
  {
   "cell_type": "markdown",
   "metadata": {},
   "source": [
    "### First we fit a penalized logistic regression"
   ]
  },
  {
   "cell_type": "code",
   "execution_count": 26,
   "metadata": {},
   "outputs": [
    {
     "name": "stdout",
     "output_type": "stream",
     "text": [
      "Accuracy:\n",
      "0.7526104417670683\n",
      "--------\n",
      "Confusion Matrix:\n",
      "[[450 138]\n",
      " [170 487]]\n",
      "--------\n",
      "AUC score:\n",
      "0.8458308742066081\n"
     ]
    },
    {
     "name": "stderr",
     "output_type": "stream",
     "text": [
      "/opt/conda/lib/python3.8/site-packages/sklearn/linear_model/_sag.py:329: ConvergenceWarning: The max_iter was reached which means the coef_ did not converge\n",
      "  warnings.warn(\"The max_iter was reached which means \"\n"
     ]
    },
    {
     "data": {
      "text/plain": [
       "Text(0, 0.5, 'True Positive Rate')"
      ]
     },
     "execution_count": 26,
     "metadata": {},
     "output_type": "execute_result"
    },
    {
     "data": {
      "image/png": "[encoded data removed]",
      "text/plain": [
       "<Figure size 432x432 with 1 Axes>"
      ]
     },
     "metadata": {
      "needs_background": "light"
     },
     "output_type": "display_data"
    }
   ],
   "source": [
    "from sklearn.linear_model import LogisticRegression\n",
    "from sklearn.metrics import roc_auc_score\n",
    "from sklearn.metrics import plot_roc_curve\n",
    "from sklearn.metrics import confusion_matrix\n",
    "import matplotlib.pyplot as plt\n",
    "from sklearn.metrics import accuracy_score\n",
    "\n",
    "\n",
    "reg = LogisticRegression(penalty='l1',solver='saga',C=10)\n",
    "reg.fit(X_train, y_train)\n",
    "y_pred = reg.predict_proba(X_test)[:,1]\n",
    "\n",
    "print('Accuracy:')\n",
    "print((accuracy_score(y_test, reg.predict(X_test))))\n",
    "print('--------')\n",
    "print('Confusion Matrix:')\n",
    "print(confusion_matrix(y_test, reg.predict(X_test)))\n",
    "print('--------')\n",
    "print('AUC score:')\n",
    "print((roc_auc_score(y_test,y_pred)))\n",
    "\n",
    "f,ax=plt.subplots(1,figsize=(6,6))\n",
    "plot_roc_curve(reg, X_test, y_test,ax=ax)\n",
    "ax.plot([0, 1], [0, 1], transform=ax.transAxes,color='grey',linestyle='--')\n",
    "plt.xlim([-.01,1.01])\n",
    "plt.ylim([-.01,1.01])\n",
    "plt.legend(prop={'size':14})\n",
    "plt.xlabel('False Positive Rate',size=20)\n",
    "plt.ylabel('True Positive Rate',size=20)"
   ]
  },
  {
   "cell_type": "markdown",
   "metadata": {},
   "source": [
    "### The baseline accuracy while always guessing negative seems to usually be around 50-60%, meaning that our models offers an improvement in accuracy.\n",
    "\n",
    "### A great thing about the Lasso (L1 penalty) is that it shrinks many of the estimated coefficients on the individual features to 0. The remaining features with relatively large coefficients are the important ones - we can look at what tokens those are:"
   ]
  },
  {
   "cell_type": "code",
   "execution_count": 27,
   "metadata": {},
   "outputs": [
    {
     "data": {
      "text/plain": [
       "(353    14.358383\n",
       " 125    12.826715\n",
       " 303    12.778479\n",
       " 263    11.082735\n",
       " 431    10.722589\n",
       " 659    10.582107\n",
       " 459    10.497376\n",
       " 450    10.289460\n",
       " 326     9.324090\n",
       " 437     9.233612\n",
       " dtype: float64,\n",
       " 642    -9.292145\n",
       " 526   -10.317872\n",
       " 454   -11.244455\n",
       " 70    -11.481450\n",
       " 644   -12.161481\n",
       " 316   -12.185585\n",
       " 63    -12.477033\n",
       " 273   -12.674578\n",
       " 211   -13.905771\n",
       " 390   -16.074128\n",
       " dtype: float64)"
      ]
     },
     "execution_count": 27,
     "metadata": {},
     "output_type": "execute_result"
    }
   ],
   "source": [
    "#we access these from the model object reg\n",
    "#take the absolute value\n",
    "top_positive_coefficients = pd.Series(reg.coef_[0]).sort_values(ascending=False).head(10)\n",
    "top_negative_coefficients = pd.Series(reg.coef_[0]).sort_values(ascending=False).tail(10)\n",
    "top_positive_coefficients,top_negative_coefficients"
   ]
  },
  {
   "cell_type": "code",
   "execution_count": 28,
   "metadata": {},
   "outputs": [
    {
     "name": "stdout",
     "output_type": "stream",
     "text": [
      "Top features predicting relevance to the case\n",
      "love\n",
      "clear\n",
      "interest\n",
      "great\n",
      "parti\n",
      "win\n",
      "pretti\n",
      "pleas\n",
      "laugh\n",
      "perfect\n",
      "--------\n",
      "Top features predicting irrelevance to the case\n",
      "war\n",
      "sever\n",
      "poor\n",
      "ban\n",
      "wast\n",
      "kill\n",
      "avoid\n",
      "hate\n",
      "failur\n",
      "murder\n"
     ]
    }
   ],
   "source": [
    "print('Top features predicting relevance to the case')\n",
    "\n",
    "for x in top_positive_coefficients.index:\n",
    "    print(vectorizer.get_feature_names()[x])\n",
    "    \n",
    "print('--------')\n",
    "print('Top features predicting irrelevance to the case')\n",
    "\n",
    "for x in top_negative_coefficients.index:\n",
    "    print(vectorizer.get_feature_names()[x])"
   ]
  },
  {
   "cell_type": "markdown",
   "metadata": {},
   "source": [
    "#### analysing the top features we observe that it makes sense"
   ]
  },
  {
   "cell_type": "markdown",
   "metadata": {},
   "source": [
    "### In order to compare the accuracies of different models, we will now try a random forrest classifier with 500 trees "
   ]
  },
  {
   "cell_type": "code",
   "execution_count": 29,
   "metadata": {},
   "outputs": [
    {
     "name": "stdout",
     "output_type": "stream",
     "text": [
      "0.7734939759036145\n",
      "--------\n",
      "Confusion Matrix:\n",
      "[[463 125]\n",
      " [157 500]]\n",
      "--------\n",
      "0.8573188788452977\n"
     ]
    },
    {
     "data": {
      "text/plain": [
       "Text(0, 0.5, 'True Positive Rate')"
      ]
     },
     "execution_count": 29,
     "metadata": {},
     "output_type": "execute_result"
    },
    {
     "data": {
      "image/png": "[encoded data removed]",
      "text/plain": [
       "<Figure size 432x432 with 1 Axes>"
      ]
     },
     "metadata": {
      "needs_background": "light"
     },
     "output_type": "display_data"
    }
   ],
   "source": [
    "# let's try a random forest classifier, with 500 trees\n",
    "\n",
    "from sklearn.ensemble import RandomForestClassifier\n",
    "\n",
    "RF = RandomForestClassifier(n_estimators=500)\n",
    "RF.fit(X_train, y_train)\n",
    "y_pred = RF.predict_proba(X_test)[:,1]\n",
    "\n",
    "print((accuracy_score(y_test, RF.predict(X_test))))\n",
    "print('--------')\n",
    "print('Confusion Matrix:')\n",
    "print(confusion_matrix(y_test, RF.predict(X_test)))\n",
    "print('--------')\n",
    "print((roc_auc_score(y_test,y_pred)))\n",
    "\n",
    "f,ax=plt.subplots(1,figsize=(6,6))\n",
    "plot_roc_curve(RF, X_test, y_test,ax=ax)\n",
    "ax.plot([0, 1], [0, 1], transform=ax.transAxes,color='grey',linestyle='--')\n",
    "plt.xlim([-.01,1.01])\n",
    "plt.ylim([-.01,1.01])\n",
    "plt.legend(prop={'size':14})\n",
    "plt.xlabel('False Positive Rate',size=20)\n",
    "plt.ylabel('True Positive Rate',size=20)"
   ]
  },
  {
   "cell_type": "markdown",
   "metadata": {},
   "source": [
    "### From our tests, we usually noticed a very small increase/decrease in accuracy.\n",
    "\n",
    "### Inspired by https://towardsdatascience.com/sentiment-analysis-with-pyspark-bc8e83f80c35, we will also try out HashingTF + IDF + Logistic Regression:"
   ]
  },
  {
   "cell_type": "code",
   "execution_count": 30,
   "metadata": {},
   "outputs": [],
   "source": [
    "(train_set, val_set, test_set) = reddit_sentiment1.randomSplit([0.8, 0.1, 0.1], seed = 2000)"
   ]
  },
  {
   "cell_type": "code",
   "execution_count": 31,
   "metadata": {},
   "outputs": [],
   "source": [
    "from pyspark.ml.feature import HashingTF, IDF, Tokenizer\n",
    "from pyspark.ml.feature import StringIndexer\n",
    "from pyspark.ml import Pipeline\n",
    "\n",
    "tokenizer = Tokenizer(inputCol='title', outputCol='words')\n",
    "hash_tf = HashingTF(numFeatures=2**16, inputCol='words', outputCol='tf')\n",
    "idf = IDF(inputCol='tf', outputCol='features', minDocFreq=5) #minDocFreq removes sparse terms\n",
    "label_string_Idx = StringIndexer(inputCol = 'label', outputCol = 'label1')\n",
    "pipeline = Pipeline(stages=[tokenizer, hash_tf, idf, label_string_Idx])\n",
    "\n",
    "pipelineFit = pipeline.fit(train_set)\n",
    "train_df = pipelineFit.transform(train_set)\n",
    "val_df = pipelineFit.transform(val_set)\n",
    "#train_df.show(5)"
   ]
  },
  {
   "cell_type": "code",
   "execution_count": 32,
   "metadata": {},
   "outputs": [
    {
     "data": {
      "text/plain": [
       "0.72608547008547"
      ]
     },
     "execution_count": 32,
     "metadata": {},
     "output_type": "execute_result"
    }
   ],
   "source": [
    "from pyspark.ml.classification import LogisticRegression\n",
    "lr = LogisticRegression(maxIter=100)\n",
    "lrModel = lr.fit(train_df)\n",
    "predictions = lrModel.transform(val_df)\n",
    "from pyspark.ml.evaluation import BinaryClassificationEvaluator\n",
    "evaluator = BinaryClassificationEvaluator(rawPredictionCol='rawPrediction')\n",
    "evaluator.evaluate(predictions)"
   ]
  },
  {
   "cell_type": "markdown",
   "metadata": {},
   "source": [
    "### This accuracy score seems the best at first, however as noted by Ricky, BinaryClassificationEvaluator evaluates by default areaUnderROC. We took his recommendation and calculate accuracy by counting the number of predictions matching the label and dividing it by the total entries."
   ]
  },
  {
   "cell_type": "code",
   "execution_count": 33,
   "metadata": {},
   "outputs": [
    {
     "data": {
      "text/plain": [
       "0.6571428571428571"
      ]
     },
     "execution_count": 33,
     "metadata": {},
     "output_type": "execute_result"
    }
   ],
   "source": [
    "# accuracy calculation\n",
    "accuracy = predictions.filter(predictions.label == predictions.prediction).count() / float(val_set.count())\n",
    "accuracy"
   ]
  },
  {
   "cell_type": "markdown",
   "metadata": {},
   "source": [
    "### The accuracy of this test seems to increase/decrease by a few percentage points based on the reddit posts. During our last test, it decreased."
   ]
  },
  {
   "cell_type": "markdown",
   "metadata": {},
   "source": [
    "### The points made during the accuracy tests are what we noticed during our test. In reality, these accuraxy scores tend to change, as the reddit posts extracted change each time the whole notebook is ran."
   ]
  },
  {
   "cell_type": "code",
   "execution_count": null,
   "metadata": {},
   "outputs": [],
   "source": []
  }
 ],
 "metadata": {
  "kernelspec": {
   "display_name": "Python 3 (ipykernel)",
   "language": "python",
   "name": "python3"
  },
  "language_info": {
   "codemirror_mode": {
    "name": "ipython",
    "version": 3
   },
   "file_extension": ".py",
   "mimetype": "text/x-python",
   "name": "python",
   "nbconvert_exporter": "python",
   "pygments_lexer": "ipython3",
   "version": "3.10.6"
  }
 },
 "nbformat": 4,
 "nbformat_minor": 4
}
